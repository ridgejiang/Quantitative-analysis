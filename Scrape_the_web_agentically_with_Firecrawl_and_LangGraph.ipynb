{
  "nbformat": 4,
  "nbformat_minor": 0,
  "metadata": {
    "colab": {
      "provenance": [],
      "include_colab_link": true
    },
    "kernelspec": {
      "name": "python3",
      "display_name": "Python 3"
    },
    "language_info": {
      "name": "python"
    }
  },
  "cells": [
    {
      "cell_type": "markdown",
      "metadata": {
        "id": "view-in-github",
        "colab_type": "text"
      },
      "source": [
        "<a href=\"https://colab.research.google.com/github/ridgejiang/Quantitative-analysis/blob/master/Scrape_the_web_agentically_with_Firecrawl_and_LangGraph.ipynb\" target=\"_parent\"><img src=\"https://colab.research.google.com/assets/colab-badge.svg\" alt=\"Open In Colab\"/></a>"
      ]
    },
    {
      "cell_type": "markdown",
      "source": [
        "## Install dependencies"
      ],
      "metadata": {
        "id": "7jds9bZ1TDWv"
      }
    },
    {
      "cell_type": "markdown",
      "source": [
        "First, we need to install the langgraph and firecrawl-py packages."
      ],
      "metadata": {
        "id": "IHJ7GSi-TF5e"
      }
    },
    {
      "cell_type": "code",
      "source": [
        "%%capture --no-stderr\n",
        "pip install -U langgraph firecrawl-py -q"
      ],
      "metadata": {
        "id": "oC40tcvUTGl8"
      },
      "execution_count": null,
      "outputs": []
    },
    {
      "cell_type": "markdown",
      "source": [
        "## Setup some nice logging so we can see what's happening at all times"
      ],
      "metadata": {
        "id": "i2O3rNYQTSsK"
      }
    },
    {
      "cell_type": "code",
      "source": [
        "import getpass\n",
        "from typing import List, Optional, TypedDict, Any\n",
        "from typing_extensions import Annotated\n",
        "from operator import or_\n",
        "from langgraph.graph import StateGraph, START, END\n",
        "from langgraph.types import Send\n",
        "from IPython.display import Image, display\n",
        "import logging\n",
        "\n",
        "# === Logging Configuration ===\n",
        "logger = logging.getLogger()\n",
        "logger.setLevel(logging.INFO)  # Set the root logger level to INFO\n",
        "\n",
        "# Remove all handlers associated with the root logger object.\n",
        "if logger.hasHandlers():\n",
        "    logger.handlers.clear()\n",
        "\n",
        "# Create a new handler\n",
        "handler = logging.StreamHandler()\n",
        "handler.setLevel(logging.INFO)  # Set handler level to INFO\n",
        "\n",
        "# Create a formatter and set it for the handler\n",
        "formatter = logging.Formatter('%(asctime)s - %(levelname)s - %(message)s')\n",
        "handler.setFormatter(formatter)\n",
        "\n",
        "# Add the handler to the root logger\n",
        "logger.addHandler(handler)\n",
        "# === End of Logging Configuration ===\n",
        "\n",
        "def first_non_null(a, b):\n",
        "    return a if a is not None else b\n"
      ],
      "metadata": {
        "id": "Q0ySijz5TXYe"
      },
      "execution_count": null,
      "outputs": []
    },
    {
      "cell_type": "markdown",
      "source": [
        "## Make sure we set our Firecrawl API key"
      ],
      "metadata": {
        "id": "gWoR2NSKTbv5"
      }
    },
    {
      "cell_type": "code",
      "source": [
        "FIRECRAWL_API_KEY = getpass.getpass(\"Firecrawl API Key: \")"
      ],
      "metadata": {
        "id": "YuktGWAiTegD"
      },
      "execution_count": null,
      "outputs": []
    },
    {
      "cell_type": "markdown",
      "source": [
        "## Define our LangGraph agent's state schema"
      ],
      "metadata": {
        "id": "EVuIDXspTnl0"
      }
    },
    {
      "cell_type": "markdown",
      "source": [
        "This is so it knows what to keep track of when it's running from node to node."
      ],
      "metadata": {
        "id": "bTbRDFZoTwiJ"
      }
    },
    {
      "cell_type": "code",
      "source": [
        "# Define the InputState schema\n",
        "class InputState(TypedDict):\n",
        "    url: str\n",
        "    keyword: str\n",
        "\n",
        "# Define the OverallState schema with reducers\n",
        "class OverallState(TypedDict):\n",
        "    urls: List[str]\n",
        "    current_url_index: int\n",
        "    total_urls: int\n",
        "    urls_to_scrape: List[str]\n",
        "    extracted_info: Annotated[Optional[str], first_non_null]\n",
        "    extracted_from_url: Annotated[Optional[str], first_non_null]\n",
        "    is_information_found: Annotated[Optional[bool], or_]\n",
        "    keyword: str\n"
      ],
      "metadata": {
        "id": "pGFkxjwATuzg"
      },
      "execution_count": null,
      "outputs": []
    },
    {
      "cell_type": "markdown",
      "source": [
        "## Define agent nodes"
      ],
      "metadata": {
        "id": "M8BPA-_DT1Mx"
      }
    },
    {
      "cell_type": "markdown",
      "source": [
        "We designate a first_node that is just a placeholder just to see what our state (data) looks like in the beginning."
      ],
      "metadata": {
        "id": "YmJ5DthzT5IF"
      }
    },
    {
      "cell_type": "code",
      "source": [
        "def first_node(state: InputState) -> OverallState:\n",
        "    logging.info(\"Executing node: first_node\")\n",
        "    return {\n",
        "        \"urls\": [state[\"url\"]],\n",
        "        \"current_url_index\": 0,\n",
        "        \"total_urls\": 0,\n",
        "        \"urls_to_scrape\": [],\n",
        "        \"keyword\": state[\"keyword\"],\n",
        "        \"extracted_info\": None,\n",
        "        \"extracted_from_url\": None,\n",
        "        \"is_information_found\": False,\n",
        "    }\n"
      ],
      "metadata": {
        "id": "o9Oo6z2_UDU_"
      },
      "execution_count": null,
      "outputs": []
    },
    {
      "cell_type": "markdown",
      "source": [
        "Our second node would be the one that finds the sitemap from the website we give the agent. This will leverage Firecrawl to do so."
      ],
      "metadata": {
        "id": "DtbAp-CQUI7z"
      }
    },
    {
      "cell_type": "code",
      "source": [
        "from firecrawl import FirecrawlApp\n",
        "\n",
        "def get_sitemap(state: OverallState, config):\n",
        "    logging.info(\"Executing node: get_sitemap\")\n",
        "    api_key = config.get(\"configurable\", {}).get(\"firecrawl_api_key\")\n",
        "    if not api_key:\n",
        "        logging.error(\"Firecrawl API key is missing in the configuration.\")\n",
        "        raise ValueError(\"Firecrawl API key is missing in the configuration.\")\n",
        "\n",
        "    app = FirecrawlApp(api_key=api_key)\n",
        "\n",
        "    # Map the website to get the list of URLs\n",
        "    map_result = app.map_url(state[\"urls\"][0])\n",
        "    logging.info(f\"Map result: {map_result}\")\n",
        "\n",
        "    # Handle the new response format which is a dictionary\n",
        "    if isinstance(map_result, dict):\n",
        "        if map_result.get('success') and isinstance(map_result.get('links'), list):\n",
        "            sitemap = map_result['links']\n",
        "            state[\"urls\"] = sitemap\n",
        "            state[\"total_urls\"] = len(sitemap)\n",
        "            logging.info(f\"Found {len(sitemap)} URLs to scrape.\")\n",
        "        else:\n",
        "            logging.error(f\"Error: Invalid response structure in map_result: {map_result}\")\n",
        "            state[\"urls\"] = []\n",
        "    # Keep the original list handling for backward compatibility\n",
        "    elif isinstance(map_result, list) and len(map_result) > 0:\n",
        "        sitemap = map_result\n",
        "        state[\"urls\"] = sitemap\n",
        "        state[\"total_urls\"] = len(sitemap)\n",
        "        logging.info(f\"Found {len(sitemap)} URLs to scrape.\")\n",
        "    else:\n",
        "        logging.error(f\"Error: Unexpected format in map_result: {map_result}\")\n",
        "        state[\"urls\"] = []\n",
        "\n",
        "    return state"
      ],
      "metadata": {
        "id": "UUK9vt2KUQTH"
      },
      "execution_count": null,
      "outputs": []
    },
    {
      "cell_type": "markdown",
      "source": [
        "Next, we define a node that manages scraping. Why is called \"manager\"? It's because we want our agent to take three URLs from the sitemap at a time to scrape and extract information, then if it has to do that again, then the manager will facilitate that."
      ],
      "metadata": {
        "id": "2wcGQwA_UVBy"
      }
    },
    {
      "cell_type": "code",
      "source": [
        "def scrape_manager(state: OverallState) -> OverallState:\n",
        "    logging.info(\"Executing node: scrape_manager\")\n",
        "    total_urls = state.get(\"total_urls\", 0)\n",
        "    current_index = state[\"current_url_index\"]\n",
        "    next_index = min(current_index + 3, total_urls)\n",
        "    urls_to_scrape = state[\"urls\"][current_index:next_index]\n",
        "    state[\"current_url_index\"] = next_index  # Update the current index\n",
        "    state[\"urls_to_scrape\"] = urls_to_scrape  # Store the URLs to scrape\n",
        "\n",
        "    if total_urls > 0:\n",
        "        progress = (current_index / total_urls) * 100\n",
        "        logging.info(f\"Progress: {current_index}/{total_urls} URLs processed ({progress:.2f}%)\")\n",
        "    return state\n",
        "\n",
        "# Function to return Send objects to scraper nodes\n",
        "def continue_to_scraper(state: OverallState):\n",
        "    logging.info(f\"Preparing to scrape URLs {state['current_url_index'] - len(state['urls_to_scrape'])} to {state['current_url_index'] - 1}\")\n",
        "    # Return list of Send objects to 'scraper' node\n",
        "    return [Send(\"scraper\", {\"url\": url, \"keyword\": state[\"keyword\"]}) for url in state[\"urls_to_scrape\"]]\n"
      ],
      "metadata": {
        "id": "9Z-Fmn8pUjzp"
      },
      "execution_count": null,
      "outputs": []
    },
    {
      "cell_type": "markdown",
      "source": [
        "As you can see, we also allow this node to directly send a private state (using Send from langgraph module) so that it can fire off three parallel scraper nodes at once. We haven't declared our scraper node yet, but that's the plan."
      ],
      "metadata": {
        "id": "xE_O6GmUUmJN"
      }
    },
    {
      "cell_type": "markdown",
      "source": [
        "Now, the scraper node. This node will actually scrape the URL (using Firecrawl). We want to run multiple of these at once"
      ],
      "metadata": {
        "id": "cmW4iLXQU1Q_"
      }
    },
    {
      "cell_type": "code",
      "source": [
        "from firecrawl import FirecrawlApp\n",
        "\n",
        "def scraper(state: OverallState, config):\n",
        "    url = state[\"url\"]\n",
        "    keyword = state[\"keyword\"]\n",
        "    logging.info(f\"Executing node: scraper for URL: {url}\")\n",
        "    api_key = config.get(\"configurable\", {}).get(\"firecrawl_api_key\")\n",
        "    if not api_key:\n",
        "        logging.error(\"Firecrawl API key is missing in the configuration.\")\n",
        "        raise ValueError(\"Firecrawl API key is missing in the configuration.\")\n",
        "\n",
        "    app = FirecrawlApp(api_key=api_key)\n",
        "\n",
        "    # Scrape the URL and get markdown\n",
        "    try:\n",
        "        logging.info(f\"Started scraping: {url}\")\n",
        "        scrape_result = app.scrape_url(url, params={'formats': ['markdown']})\n",
        "        logging.info(f\"Scraped URL: {url}\")\n",
        "    except Exception as e:\n",
        "        logging.error(f\"Exception occurred while scraping URL: {url}. Error: {e}\")\n",
        "        scrape_result = {}\n",
        "\n",
        "    if isinstance(scrape_result, dict):\n",
        "        markdown = scrape_result.get(\"markdown\", \"\")\n",
        "        # Check if keyword is in markdown\n",
        "        if markdown and keyword in markdown:\n",
        "            # Information found\n",
        "            return {\n",
        "                \"extracted_info\": markdown,\n",
        "                \"extracted_from_url\": url,\n",
        "                \"is_information_found\": True\n",
        "            }\n",
        "        else:\n",
        "            # Information not found\n",
        "            return {\"is_information_found\": False}\n",
        "    else:\n",
        "        logging.warning(f\"Failed to scrape URL: {url}\")\n",
        "        return {\"is_information_found\": False}\n"
      ],
      "metadata": {
        "id": "yyhvBScWU9Dy"
      },
      "execution_count": null,
      "outputs": []
    },
    {
      "cell_type": "markdown",
      "source": [
        "The next node would try to see if the information we're looking for was found in the scraped URL. Remember this: each scraper we run will be evaluated all together at the same time once they're all done (we call this fan-in, and when the scraper manager fires off three scraper nodes to run, that was called \"fan-out\")"
      ],
      "metadata": {
        "id": "KHb1cuqGVHmn"
      }
    },
    {
      "cell_type": "code",
      "source": [
        "def evaluate(state: OverallState):\n",
        "    logging.info(\"Executing node: evaluate\")\n",
        "    # Logic is handled in the routing function\n",
        "    return state\n",
        "\n",
        "# Conditional routing function for evaluate node\n",
        "def evaluate_routing(state: OverallState):\n",
        "    if state.get(\"is_information_found\", False):\n",
        "        logging.info(f\"Information found in URL: {state.get('extracted_from_url')}\")\n",
        "        logging.info(\"Terminating graph execution.\")\n",
        "        return \"END\"\n",
        "    elif state[\"current_url_index\"] < len(state[\"urls\"]):\n",
        "        logging.info(\"Information not found, continuing to scrape next batch.\")\n",
        "        return \"scrape_manager\"\n",
        "    else:\n",
        "        logging.info(\"No more URLs to scrape, terminating graph execution.\")\n",
        "        return \"END\"\n"
      ],
      "metadata": {
        "id": "VuCkbEA8VcsI"
      },
      "execution_count": null,
      "outputs": []
    },
    {
      "cell_type": "markdown",
      "source": [
        "## Before we can run our agent, compile it"
      ],
      "metadata": {
        "id": "UC77hqeZVfAA"
      }
    },
    {
      "cell_type": "code",
      "source": [
        "# Build the graph with configuration schema\n",
        "class ConfigSchema(TypedDict):\n",
        "    firecrawl_api_key: str\n",
        "\n",
        "builder = StateGraph(OverallState, input=InputState, config_schema=ConfigSchema)\n",
        "\n",
        "builder.add_node(\"first_node\", first_node)\n",
        "builder.add_node(\"get_sitemap\", get_sitemap)\n",
        "builder.add_node(\"scrape_manager\", scrape_manager)\n",
        "builder.add_node(\"scraper\", scraper)\n",
        "builder.add_node(\"evaluate\", evaluate)\n",
        "\n",
        "# Add edges between nodes\n",
        "builder.add_edge(START, \"first_node\")\n",
        "builder.add_edge(\"first_node\", \"get_sitemap\")\n",
        "builder.add_edge(\"get_sitemap\", \"scrape_manager\")\n",
        "\n",
        "# Add conditional edges from scrape_manager to scraper nodes\n",
        "builder.add_conditional_edges(\"scrape_manager\", continue_to_scraper, [\"scraper\"])\n",
        "\n",
        "builder.add_edge(\"scraper\", \"evaluate\")\n",
        "\n",
        "# Add conditional edge from evaluate node with explicit mapping\n",
        "builder.add_conditional_edges(\n",
        "    \"evaluate\",\n",
        "    evaluate_routing,\n",
        "    {\"END\": END, \"scrape_manager\": \"scrape_manager\"}\n",
        ")\n",
        "\n",
        "# Compile the graph\n",
        "graph = builder.compile()\n"
      ],
      "metadata": {
        "id": "u8r-c5S4ViZq"
      },
      "execution_count": null,
      "outputs": []
    },
    {
      "cell_type": "markdown",
      "source": [
        "## For better understanding of what the heck is going on, see it"
      ],
      "metadata": {
        "id": "wqsLjw9-VktJ"
      }
    },
    {
      "cell_type": "markdown",
      "source": [
        "LangGraph has built-in mermaid chart generator (neat!)\n",
        "\n",
        "You'll see how easy to understand it is once you see the chart (I promise)"
      ],
      "metadata": {
        "id": "C2smRs92VoTB"
      }
    },
    {
      "cell_type": "code",
      "source": [
        "# Visualize the graph\n",
        "display(Image(graph.get_graph().draw_mermaid_png()))"
      ],
      "metadata": {
        "id": "RzOrG6mCVrRR",
        "colab": {
          "base_uri": "https://localhost:8080/",
          "height": 671
        },
        "outputId": "3a2102d3-7383-4beb-bc73-a63c7483959c"
      },
      "execution_count": null,
      "outputs": [
        {
          "output_type": "display_data",
          "data": {
            "image/jpeg": "[encoded data removed]",
            "text/plain": [
              "<IPython.core.display.Image object>"
            ]
          },
          "metadata": {}
        }
      ]
    },
    {
      "cell_type": "markdown",
      "source": [
        "## Run this baby"
      ],
      "metadata": {
        "id": "vpTQqxtJV3ls"
      }
    },
    {
      "cell_type": "markdown",
      "source": [
        "This is the moment of truth. We shall now run it.\n",
        "\n",
        "Our agent is given a task to find out which page has info on \"Shelburne Parka\" but we're just going to give it the generic root domain from canadagoose.com (it's a clothing company. I'm too poor to own anything from them)\n",
        "\n",
        "You can imagine how flexible this could be: here, we're looking for an exact keyword match, but you can always swap for an LLM and do extraction here!"
      ],
      "metadata": {
        "id": "y0ytt0PLV4-s"
      }
    },
    {
      "cell_type": "code",
      "source": [
        "config = {\"configurable\": {\"firecrawl_api_key\": FIRECRAWL_API_KEY}, \"recursion_limit\": 50}\n",
        "\n",
        "input_state = {\n",
        "    \"url\": \"https://www.canadagoose.com/\",\n",
        "    \"keyword\": \"Lodge Coach Jacket Black Label\"\n",
        "}\n",
        "\n",
        "result = graph.invoke(input_state, config=config)\n"
      ],
      "metadata": {
        "id": "--9emSuGV7pz",
        "colab": {
          "base_uri": "https://localhost:8080/"
        },
        "outputId": "cfe5b0f5-4692-415a-da20-03edea8ba0eb"
      },
      "execution_count": null,
      "outputs": [
        {
          "output_type": "stream",
          "name": "stderr",
          "text": [
            "2024-10-25 02:22:23,024 - INFO - Executing node: first_node\n",
            "2024-10-25 02:22:23,028 - INFO - Executing node: get_sitemap\n",
            "2024-10-25 02:22:30,204 - INFO - Map result: {'success': True, 'links': ['https://www.canadagoose.com', 'https://www.canadagoose.com/fi/en_FI/shop', 'https://www.canadagoose.com/fi/en_FI/shop/shop', 'https://www.canadagoose.com/ie/en/shop/shop', 'https://www.canadagoose.com/ma/en_MA/shop/men', 'https://www.canadagoose.com/br/en_BR/shop/men', 'https://www.canadagoose.com/au/en_AU/home-page', 'https://www.canadagoose.com/yd/en_YD/shop/shop', 'https://www.canadagoose.com/pl/en_PL/home-page', 'https://www.canadagoose.com/yg/en_YG/home-page', 'https://www.canadagoose.com/at/de/home-page', 'https://www.canadagoose.com/fr/en/home-page', 'https://www.canadagoose.com/lu/en/shop/shop', 'https://www.canadagoose.com/ca/en/shop/shop', 'https://www.canadagoose.com/sa/en_SA/home-page', 'https://www.canadagoose.com/de/en/shop/shop', 'https://www.canadagoose.com/pt/en_PT/shop/men', 'https://www.canadagoose.com/gr/en_GR/home-page', 'https://www.canadagoose.com/pk/en_PK/shop/shop', 'https://www.canadagoose.com/cn/zh_CN/773289802350.html', 'https://www.canadagoose.com/es/en_ES/shop/shop', 'https://www.canadagoose.com/is/en_IS/shop/men', 'https://www.canadagoose.com/bg/en_BG/shop/shop', 'https://www.canadagoose.com/ca/fr/home-page', 'https://www.canadagoose.com/lv/en_LV/shop/shop', 'https://www.canadagoose.com/se/en/home-page', 'https://www.canadagoose.com/se/en/shop/shop', 'https://www.canadagoose.com/eg/en_EG/shop/men', 'https://www.canadagoose.com/bg/en_BG/home-page', 'https://www.canadagoose.com/be/fr/shop/shop', 'https://www.canadagoose.com/is/en_IS/shop/shop', 'https://www.canadagoose.com/cn/zh/juunj.html', 'https://www.canadagoose.com/fr/fr/home-page', 'https://www.canadagoose.com/eg/en_EG/home-page', 'https://www.canadagoose.com/uk/en/home-page', 'https://www.canadagoose.com/cn/en/home-page', 'https://www.canadagoose.com/ae/en_AE/shop/shop', 'https://www.canadagoose.com/pl/en_PL/shop/shop', 'https://www.canadagoose.com/ca/en/home-page', 'https://www.canadagoose.com/th/en_TH/shop/shop', 'https://www.canadagoose.com/cn/en/773289802565.html', 'https://www.canadagoose.com/th/en_TH/home-page', 'https://www.canadagoose.com/lu/en/home-page', 'https://www.canadagoose.com/np/en_NP/shop/shop', 'https://www.canadagoose.com/es/en_ES/home-page', 'https://www.canadagoose.com/ie/en/home-page', 'https://www.canadagoose.com/vn/en_VN/home-page', 'https://www.canadagoose.com/it/en/shop/shop', 'https://www.canadagoose.com/sk/en_SK/shop/shop', 'https://www.canadagoose.com/rs/en_RS/home-page', 'https://www.canadagoose.com/be/en/home-page', 'https://www.canadagoose.com/fi/en_FI/home-page', 'https://www.canadagoose.com/cn/en/801688629886.html', 'https://www.canadagoose.com/cn/zh/628343815626.html', 'https://www.canadagoose.com/si/en_SI/home-page', 'https://www.canadagoose.com/cn/zh_CN/628343815626.html', 'https://www.canadagoose.com/pt/en_PT/home-page', 'https://www.canadagoose.com/de/en/home-page', 'https://www.canadagoose.com/cn/zh/%E9%80%89%E8%B4%AD/%E7%94%B7%E8%A3%85', 'https://www.canadagoose.com/cn/zh/careers/careers.html', 'https://www.canadagoose.com/ca/zh/careers/careers.html', 'https://www.canadagoose.com/yd/en_YD/counterfeit/counterfeit.html', 'https://www.canadagoose.com/fr/fr/chicago-store.html', 'https://www.canadagoose.com/fr/fr/montreal-store.html', 'https://www.canadagoose.com/it/it/careers/careers.html', 'https://www.canadagoose.com/cn/zh/%E7%94%B5%E5%BD%B1/film.html', 'https://www.canadagoose.com/cn/zh/frankfurt-store.html', 'https://www.canadagoose.com/ca/zh/paris-store.html', 'https://www.canadagoose.com/de/de/munich-store.html', 'https://www.canadagoose.com/cn/zh/london-store.html', 'https://www.canadagoose.com/be/fr/montreal-store.html', 'https://www.canadagoose.com/ca/fr/project-atigi.html', 'https://www.canadagoose.com/ch-de/de_CH/home-page', 'https://www.canadagoose.com/ca/zh/banff-store.html', 'https://www.canadagoose.com/cn/zh/changchun-store.html', 'https://www.canadagoose.com/ca/zh/montreal-store.html', 'https://www.canadagoose.com/ca/en/manchester-store.html', 'https://www.canadagoose.com/cn/zh/%E9%80%89%E8%B4%AD/%E5%A5%B3%E8%A3%85', 'https://www.canadagoose.com/hr/en_HR/careers/careers.html', 'https://www.canadagoose.com/be/fr/paris-store.html', 'https://www.canadagoose.com/at/en/counterfeit/counterfeit.html', 'https://www.canadagoose.com/fr/en/careers/careers.html', 'https://www.canadagoose.com/ca/zh/ottawa-store.html', 'https://www.canadagoose.com/uk/en/paris-store.html', 'https://www.canadagoose.com/ca/en/collaboration-main.html', 'https://www.canadagoose.com/cn/en/shop/medicom-bearbrick', 'https://www.canadagoose.com/cn/zh/faq/faq.html', 'https://www.canadagoose.com/fr/fr/careers/careers.html', 'https://www.canadagoose.com/de/en/careers/careers.html', 'https://www.canadagoose.com/cn/zh/project-atigi.html', 'https://www.canadagoose.com/it/en/fusion-fit.html', 'https://www.canadagoose.com/np/en_NP/fusion-fit.html', 'https://www.canadagoose.com/de/en/berlin-store.html', 'https://www.canadagoose.com/nl/en/personalization/personalization.html', 'https://www.canadagoose.com/cn/en/shop/men/outerwear', 'https://www.canadagoose.com/be/en/paris-store.html', 'https://www.canadagoose.com/cn/en/counterfeit/counterfeit.html', 'https://www.canadagoose.com/be/fr/ottawa-store.html', 'https://www.canadagoose.com/it/it/milan-store.html', 'https://www.canadagoose.com/be/fr/dublin-store.html', 'https://www.canadagoose.com/us/en/collaboration-main.html', 'https://www.canadagoose.com/pl/en_PL/berlin-store.html', 'https://www.canadagoose.com/us/en/hawaii-store.html', 'https://www.canadagoose.com/fr/en/collaboration-main.html', 'https://www.canadagoose.com/ca/en/banff-store.html', 'https://www.canadagoose.com/nl/en/collaboration-main.html', 'https://www.canadagoose.com/nl/en/fusion-fit.html', 'https://www.canadagoose.com/ca/en/berlin-store.html', 'https://www.canadagoose.com/us/en/boston-store.html', 'https://www.canadagoose.com/be/en/berlin-store.html', 'https://www.canadagoose.com/cn/zh/calgary-store.html', 'https://www.canadagoose.com/it/en/milan-store.html', 'https://www.canadagoose.com/us/en/minneapolis-store.html', 'https://www.canadagoose.com/us/en/personalization/personalization.html', 'https://www.canadagoose.com/ca/en/montreal-store.html', 'https://www.canadagoose.com/ca/fr/london-store.html', 'https://www.canadagoose.com/ca/en/munich-store.html', 'https://www.canadagoose.com/au/en_AU/warranty/warranty.html', 'https://www.canadagoose.com/uk/en/faq/faq.html', 'https://www.canadagoose.com/nl/en/careers/careers.html', 'https://www.canadagoose.com/ca/en/paris-store.html', 'https://www.canadagoose.com/us/en/faq/faq.html', 'https://www.canadagoose.com/ee/en_EE/counterfeit/counterfeit.html', 'https://www.canadagoose.com/ca/en/frankfurt-store.html', 'https://www.canadagoose.com/ca/fr/ottawa-store.html', 'https://www.canadagoose.com/cn/zh/collaboration-main.html', 'https://www.canadagoose.com/es/en_ES/paris-store.html', 'https://www.canadagoose.com/ca/zh/milan-store.html', 'https://www.canadagoose.com/cn/zh/fdny-thebravest.html', 'https://www.canadagoose.com/be/en/milan-store.html', 'https://www.canadagoose.com/it/it/faq/faq.html', 'https://www.canadagoose.com/ca/fr/collaboration-main.html', 'https://www.canadagoose.com/ca/fr/counterfeit/counterfeit.html', 'https://www.canadagoose.com/ch/en_CH/careers/careers.html', 'https://www.canadagoose.com/ca/en/milan-store.html', 'https://www.canadagoose.com/cn/zh/nba-collection.html', 'https://www.canadagoose.com/de/de/montreal-store.html', 'https://www.canadagoose.com/ca/zh/vancouver-store.html', 'https://www.canadagoose.com/ca/en/film/film.html', 'https://www.canadagoose.com/ca/en/edmonton-store.html', 'https://www.canadagoose.com/nl/en/faq/faq.html', 'https://www.canadagoose.com/se/en/paris-store.html', 'https://www.canadagoose.com/ca/en/fusion-fit.html', 'https://www.canadagoose.com/be/fr/faq/faq.html', 'https://www.canadagoose.com/it/en/careers/careers.html', 'https://www.canadagoose.com/ie/en/return-policy/returns.html', 'https://www.canadagoose.com/th/en_TH/taiwan-skm-store.html', 'https://www.canadagoose.com/au/en_AU/crofton-puffer-2252M.html', 'https://www.canadagoose.com/nl/en/shop/men/shop-mens', 'https://www.canadagoose.com/ca/zh/new-york-store.html', 'https://www.canadagoose.com/cn/zh/%E9%9E%8B%E5%B1%A5/footwear.html', 'https://www.canadagoose.com/be/en/shop/men/shop-mens', 'https://www.canadagoose.com/cn/en/shanghai-iapm-store.html', 'https://www.canadagoose.com/ca/zh/harbour-city-store.html', 'https://www.canadagoose.com/ca/zh/amsterdam-pop-up.html', 'https://www.canadagoose.com/au/en_AU/chelsea-parka-3804W.html', 'https://www.canadagoose.com/fr/fr/new-york-store.html', 'https://www.canadagoose.com/de/de/polar-bears-international.html', 'https://www.canadagoose.com/uk/en/shop/women/shop-womens', 'https://www.canadagoose.com/au/en_AU/huron-pant-7402M.html', 'https://www.canadagoose.com/de/de/pr/bauchtasche-8833U.html', 'https://www.canadagoose.com/cn/en/shop/men/outerwear/vests', 'https://www.canadagoose.com/de/de/shop/herren/shop-mens', 'https://www.canadagoose.com/au/en_AU/cypress-puffer-2239L.html', 'https://www.canadagoose.com/cn/zh/alliston-%E5%A4%96%E5%A5%97-5077L.html', 'https://www.canadagoose.com/de/de/new-york-store.html', 'https://www.canadagoose.com/ch/en_CH/shop/men/shop-mens', 'https://www.canadagoose.com/cn/zh/%E9%80%89%E8%B4%AD/%E7%AB%A5%E8%A3%85/%E6%96%B0%E5%93%81', 'https://www.canadagoose.com/be/fr/shop/femmes/shop-womens', 'https://www.canadagoose.com/ca/zh/%E4%BF%9D%E4%BF%AE/warranty-faq.html', 'https://www.canadagoose.com/au/en_AU/faber-bomber-2441M.html', 'https://www.canadagoose.com/ca/en/shop/men/shop-mens', 'https://www.canadagoose.com/th/en_TH/shop/men/shop-mens', 'https://www.canadagoose.com/ca/zh/new-jersey-store.html', 'https://www.canadagoose.com/fr/en/shop/men/shop-mens', 'https://www.canadagoose.com/ca/en/polar-bears-international.html', 'https://www.canadagoose.com/au/en_AU/lawrence-puffer-2801M.html', 'https://www.canadagoose.com/au/en_AU/faber-hoody-2440M.html', 'https://www.canadagoose.com/ca/en/return-policy/returns.html', 'https://www.canadagoose.com/cn/zh/xian-skp-store.html', 'https://www.canadagoose.com/au/en_AU/marlow-coat-3902W.html', 'https://www.canadagoose.com/ca/fr/polar-bears-international.html', 'https://www.canadagoose.com/ca/zh/wynn-las-vegas.html', 'https://www.canadagoose.com/us/en/anchorage/anchorage-store.html', 'https://www.canadagoose.com/fr/en/shop/women/shop-womens', 'https://www.canadagoose.com/us/en/american-dream/American_Dream.html', 'https://www.canadagoose.com/ca/en/shop/kids/shop-kids', 'https://www.canadagoose.com/se/en/shop/men/shop-mens', 'https://www.canadagoose.com/us/en/phipps-plaza/Phipps_Plaza.html', 'https://www.canadagoose.com/fr/fr/shop/chaussures/shop-shoes', 'https://www.canadagoose.com/cn/zh/taiwan-skm-store.html', 'https://www.canadagoose.com/ca/fr/shop/femmes/shop-womens', 'https://www.canadagoose.com/yd/en_YD/maitland-parka-4550MB.html', 'https://www.canadagoose.com/de/de/retoure-widerruf/returns.html', 'https://www.canadagoose.com/at/de/shop/herren/shop-mens', 'https://www.canadagoose.com/ca/zh/shop/%E9%9D%B4%E5%AD%90/shop-shoes', 'https://www.canadagoose.com/au/en_AU/abbott-hoody-2220L.html', 'https://www.canadagoose.com/au/en_AU/crofton-jacket-2228M.html', 'https://www.canadagoose.com/cn/zh/pr/%E8%85%B0%E5%8C%85-8833U.html', 'https://www.canadagoose.com/yb/en_YB/shop/men/accessories/gloves', 'https://www.canadagoose.com/fi/en_FI/shop/men/shop-mens', 'https://www.canadagoose.com/ch-fr/fr_CH/paris-store.html', 'https://www.canadagoose.com/us/en/shop/women/shop-womens', 'https://www.canadagoose.com/ca/zh/taiwan-skm-store.html', 'https://www.canadagoose.com/ca/en/harbour-city-store.html', 'https://www.canadagoose.com/de/de/zahlungsmethoden/payment-methods.html', 'https://www.canadagoose.com/nl/en/shop/kids/shop-kids', 'https://www.canadagoose.com/be/en/shop/women/shop-womens', 'https://www.canadagoose.com/ca/en/chengdu-ifs-store.html', 'https://www.canadagoose.com/fr/fr/shop/hommes/shop-mens', 'https://www.canadagoose.com/cn/zh/chengdu-ifs-store.html', 'https://www.canadagoose.com/lu-fr/fr/paris-store.html', 'https://www.canadagoose.com/ca/en/shop/women/shop-womens', 'https://www.canadagoose.com/be/fr/shop/enfants/shop-kids', 'https://www.canadagoose.com/cn/zh/shanghai-iapm-store.html', 'https://www.canadagoose.com/nl/en/return-policy/returns.html', 'https://www.canadagoose.com/lu/en/shop/kids/shop-kids', 'https://www.canadagoose.com/de/en/shop/women/shop-womens', 'https://www.canadagoose.com/cn/zh/zurich/zurich-store.html', 'https://www.canadagoose.com/cn/en/macau-galaxy-store.html', 'https://www.canadagoose.com/cn/zh/%E9%80%89%E8%B4%AD/pbi-%E7%B3%BB%E5%88%97', 'https://www.canadagoose.com/cn/zh/polar-bears-international.html', 'https://www.canadagoose.com/au/en_AU/trillium-parka-6660W.html', 'https://www.canadagoose.com/cn/zh/bellevue-square-store.html', 'https://www.canadagoose.com/gr/en_GR/cinematographer-jacket-2427LB.html', 'https://www.canadagoose.com/us/en/shop/men/shop-mens', 'https://www.canadagoose.com/cn/zh/miami-store/Miami.html', 'https://www.canadagoose.com/gr/en_GR/shop/men/shop-mens', 'https://www.canadagoose.com/ch-de/de_CH/careers/careers.html', 'https://www.canadagoose.com/us/en/wynn-las-vegas.html', 'https://www.canadagoose.com/uk/en/shop/men/shop-mens', 'https://www.canadagoose.com/fi/en_FI/shop/women/outerwear/parkas', 'https://www.canadagoose.com/lu/en/shop/women/shop-womens', 'https://www.canadagoose.com/yd/en_YD/shop/men/shop-mens', 'https://www.canadagoose.com/ca/fr/shop/hommes/shop-mens', 'https://www.canadagoose.com/at/de/shop/damen/shop-womens', 'https://www.canadagoose.com/au/en_AU/belcarra-jacket-2424L.html', 'https://www.canadagoose.com/cn/en/shop/men/outerwear/parkas', 'https://www.canadagoose.com/hr/en_HR/shop/men/shop-mens', 'https://www.canadagoose.com/ca/en/cart', 'https://www.canadagoose.com/us/en/cart', 'https://www.canadagoose.com/lu/en/tokyo-store/tokyo-store.html', 'https://www.canadagoose.com/it/it/customer-care/cs-landing.html', 'https://www.canadagoose.com/de/de/pr/eakin-parka-4597Y.html', 'https://www.canadagoose.com/ca/zh/%E5%8F%91%E8%BF%90%E4%BF%A1%E6%81%AF/shipping-information.html', 'https://www.canadagoose.com/mn/en_MN/goose-people/karl-bushby.html', 'https://www.canadagoose.com/uk/en/pr/aurora-parka-3901W.html', 'https://www.canadagoose.com/ca/en/pr/rayla-vest-8813W.html', 'https://www.canadagoose.com/si/en_SI/pr/arctic-toque-6936M.html', 'https://www.canadagoose.com/ca/en/payment-methods/payment-methods.html', 'https://www.canadagoose.com/ca/en/pr/alliston-parka-5088L.html', 'https://www.canadagoose.com/cn/zh/pr/crofton-%E5%A4%B9%E5%85%8B-2228M.html', 'https://www.canadagoose.com/nl/en/pr/citadel-parka-4567M.html', 'https://www.canadagoose.com/us/en/pr/fundamental-mitten-6017W.html', 'https://www.canadagoose.com/ca/en/email-signup/email-signup.html', 'https://www.canadagoose.com/lu/en/shop/women/outerwear/snow-pants', 'https://www.canadagoose.com/ca/en/pr/holton-hoody-7071W.html', 'https://www.canadagoose.com/cn/zh/%E9%80%89%E8%B4%AD/%E5%A5%B3%E5%A3%AB-fusion-fit', 'https://www.canadagoose.com/us/en/pr/belcarra-jacket-2424L.html', 'https://www.canadagoose.com/uk/en/pr/resolute-parka-8501L.html', 'https://www.canadagoose.com/ca/en/pr/abbott-hoody-2220L.html', 'https://www.canadagoose.com/uk/en/pr/carson-parka-2079M.html', 'https://www.canadagoose.com/us/en/pr/clair-coat-2331WW.html', 'https://www.canadagoose.com/uk/en/pr/cypress-puffer-2239L.html', 'https://www.canadagoose.com/ca/en/haider-ackermann/snow-goose.html', 'https://www.canadagoose.com/us/en/pr/arctic-mitts-5158L.html', 'https://www.canadagoose.com/cn/en/chilliwack-bomber-humanature-2050W1.html', 'https://www.canadagoose.com/ch-de/de_CH/garantieinformationen/warranty-faq.html', 'https://www.canadagoose.com/at/de/pr/langford-parka-2052M.html', 'https://www.canadagoose.com/cn/zh/%E4%BF%9D%E4%BF%AE%E4%BF%A1%E6%81%AF/warranty-faq.html', 'https://www.canadagoose.com/es/en_ES/pr/citadel-parka-4567M.html', 'https://www.canadagoose.com/uk/en/pr/tundra-pant-4810M.html', 'https://www.canadagoose.com/si/en_SI/pr/macmillan%C2%A0parka-heritage-3804M.html', 'https://www.canadagoose.com/ca/fr/pr/parka-expedition%C2%A0heritage-4660M.html', 'https://www.canadagoose.com/ca/en/pr/borden-bomber-2055M.html', 'https://www.canadagoose.com/uk/en/pr/crofton-hoody-2227M.html', 'https://www.canadagoose.com/cn/zh/pr/alliston-%E5%A4%B9%E5%85%8B-5076L.html', 'https://www.canadagoose.com/ca/zh/%E9%80%80%E8%B4%A7%E6%94%BF%E7%AD%96/returns-kiosk.html', 'https://www.canadagoose.com/us/en/pr/cashmere-balaclava-5487W.html', 'https://www.canadagoose.com/uk/en/pr/emory-parka-2580M.html', 'https://www.canadagoose.com/cn/zh/pr/elora-%E9%A9%AC%E7%94%B2-2837W.html', 'https://www.canadagoose.com/uk/en/stories/shai-gilgeous-alexander.html', 'https://www.canadagoose.com/cn/zh/pr/carnaby-%E9%A3%8E%E8%A1%A3-6682LFW.html', 'https://www.canadagoose.com/uk/en/pr/shelburne-parka-3802W.html', 'https://www.canadagoose.com/se/en/pr/emory-parka-2580M.html', 'https://www.canadagoose.com/fi/en_FI/pr/victoria-parka-3037L.html', 'https://www.canadagoose.com/au/en_AU/freestyle-crew-vest-4154M.html', 'https://www.canadagoose.com/it/it/pr/giacca-crofton-2228M.html', 'https://www.canadagoose.com/lu/en/melbourne-store/melbourne-store.html', 'https://www.canadagoose.com/cn/zh/%E9%80%89%E8%B4%AD/%E7%94%B7%E8%A3%85/%E5%A4%96%E5%A5%97/%E9%A9%AC%E7%94%B2', 'https://www.canadagoose.com/us/en/pr/hybridge-mitts-6011L.html', 'https://www.canadagoose.com/us/en/pr/rosemont-parka-3030L.html', 'https://www.canadagoose.com/cn/zh/pr/%E8%BF%B7%E4%BD%A0%E8%85%B0%E5%8C%85-8837U.html', 'https://www.canadagoose.com/uk/en/pr/alliston-jacket-5076L.html', 'https://www.canadagoose.com/ca/en/pr/bala-parka-8809W.html', 'https://www.canadagoose.com/fr/en/pr/wyndham-parka-2048M.html', 'https://www.canadagoose.com/cn/zh/pr/lockeport-%E5%A4%B9%E5%85%8B-2429M.html', 'https://www.canadagoose.com/fr/fr/pr/parka-mantra-9501L.html', 'https://www.canadagoose.com/se/en/pr/lawrence-puffer-2801M.html', 'https://www.canadagoose.com/fr/fr/pr/veste-crofton-2228M.html', 'https://www.canadagoose.com/ca/en/pr/toronto-jacket-1048M.html', 'https://www.canadagoose.com/nl/en/customer-care/cs-landing.html', 'https://www.canadagoose.com/cn/zh/pr/belcarra-%E5%A4%B9%E5%85%8B-2424L.html', 'https://www.canadagoose.com/us/en/pr/lodge-hoody-5078M.html', 'https://www.canadagoose.com/us/en/pr/eglinton-boot-7680M.html', 'https://www.canadagoose.com/ca/en/pr/alliston-jacket-5076L.html', 'https://www.canadagoose.com/it/en/pr/hood-trim-128U.html', 'https://www.canadagoose.com/uk/en/pr/lockeport-jacket-2429M.html', 'https://www.canadagoose.com/us/en/pr/armstrong-hoody-5076M.html', 'https://www.canadagoose.com/ca/zh/pr/belcarra-%E5%A4%B9%E5%85%8B-2424L.html', 'https://www.canadagoose.com/us/en/pr/abbott-hoody-2220L.html', 'https://www.canadagoose.com/us/en/pr/cashmere-throw-5547U.html', 'https://www.canadagoose.com/us/en/pr/fundamental-glove-5489M.html', 'https://www.canadagoose.com/ca/en/pr/salida-jacket-5608L.html', 'https://www.canadagoose.com/ca/en/pr/belcarra-jacket-2424L.html', 'https://www.canadagoose.com/us/en/pr/puffer-mitts-6016W2.html', 'https://www.canadagoose.com/fr/fr/pr/veste-belcarra-2424L.html', 'https://www.canadagoose.com/uk/en/pr/alliston-coat-5077L.html', 'https://www.canadagoose.com/be/fr/pr/veste-lockeport-2429M.html', 'https://www.canadagoose.com/us/en/pr/cashmere-blanket-5548U.html', 'https://www.canadagoose.com/us/en/pr/lockeport-jacket-2429M.html', 'https://www.canadagoose.com/us/en/pr/minden-jacket-2423L.html', 'https://www.canadagoose.com/ca/en/shop/women/outerwear/shop-womens-outerwear', 'https://www.canadagoose.com/us/en/pr/langford-parka-heritage-2062M.html', 'https://www.canadagoose.com/de/en/pr/muskoka-relaxed-crewneck-7063W.html', 'https://www.canadagoose.com/lu/en/pr/muskoka-relaxed-crewneck-7063W.html', 'https://www.canadagoose.com/us/en/pr/chelsea-parka-heritage-3804L.html', 'https://www.canadagoose.com/us/en/shop/men/outerwear/shop-mens-outerwear', 'https://www.canadagoose.com/ca/en/shop/men/outerwear/shop-mens-outerwear', 'https://www.canadagoose.com/us/en/pr/everett-hooded-puffer-2617UOV.html', 'https://www.canadagoose.com/us/en/shop/women/outerwear/shop-womens-outerwear', 'https://www.canadagoose.com/fr/en/pr/muskoka-relaxed-crewneck-7063W.html', 'https://www.canadagoose.com/de/de/pr/lockerer-muskoka-rundhalspullover-7063W.html', 'https://www.canadagoose.com/us/en/pr/lightweight-puffer-glove-5488M.html', 'https://www.canadagoose.com/ca/en/shop/women/outerwear/parkas/shop-womens-parkas', 'https://www.canadagoose.com/us/en/pr/chelsea-parka-alluraluxe-wool-3804WB3.html', 'https://www.canadagoose.com/us/en/shop/women/outerwear/bombers/shop-womens-bombers', 'https://www.canadagoose.com/us/en/shop/women/outerwear/parkas/shop-womens-parkas', 'https://www.canadagoose.com/us/en/shop/men/outerwear/vests/shop-mens-vests', 'https://www.canadagoose.com/us/en/pr/kids-simcoe-fleece-jacket-7083K.html', 'https://www.canadagoose.com/ca/en/shop/men/outerwear/vests/shop-mens-vests', 'https://www.canadagoose.com/us/en/pr/kya-lace-up-boot-7789W.html', 'https://www.canadagoose.com/us/en/pr/insulated-lawson-fleece-jacket-7049UOV.html', 'https://www.canadagoose.com/uk/en/shop/men/outerwear/parkas/shop-mens-parkas', 'https://www.canadagoose.com/us/en/find-a-retailer/find-a-retailer.html', 'https://www.canadagoose.com/ca/en/shop/men/outerwear/parkas/shop-mens-parkas', 'https://www.canadagoose.com/us/en/shop/men/outerwear/parkas/shop-mens-parkas', 'https://www.canadagoose.com/ca/en/shop/men/outerwear/bombers/shop-mens-bombers', 'https://www.canadagoose.com/us/en/pr/youth-simcoe-fleece-jacket-7083Y.html', 'https://www.canadagoose.com/us/en/pr/demma-shearling-puffer-boot-7802W1.html', 'https://www.canadagoose.com/us/en/shop/men/outerwear/lightweight-jackets/shop-mens-lightweight', 'https://www.canadagoose.com/us/en/pr/hybridge-huron-full-zip-jacket-6620M.html', 'https://www.canadagoose.com/ca/en/shop/men/fall-winter-collection/shop-mens-fw', 'https://www.canadagoose.com/uk/en/shop/women/fall-winter-collection/shop-womens-fw', 'https://www.canadagoose.com/us/en/shop/men/fall-winter-collection/shop-mens-fw', 'https://www.canadagoose.com/ca/en/shop/men/outerwear/puffer-jackets/shop-mens-puffers', 'https://www.canadagoose.com/us/en/shop/women/outerwear/puffer-jackets/shop-womens-puffers', 'https://www.canadagoose.com/us/en/shop/women/outerwear/lightweight-jackets/shop-womens-lightweight', 'https://www.canadagoose.com/us/en/shop/men/outerwear/puffer-jackets/shop-mens-puffers', 'https://www.canadagoose.com/us/en/shop/women/fall-winter-collection/shop-womens-fw', 'https://www.canadagoose.com/us/en/pr/almandine-cropped-plaid-shirt-jacket-4892W.html', 'https://www.canadagoose.com/ca/en/shop/women/fall-winter-collection/shop-womens-fw', 'https://www.canadagoose.com/uk/en/shop/men/fall-winter-collection/shop-mens-fw', 'https://www.canadagoose.com/ca/en/shop/women/outerwear/puffer-jackets/shop-womens-puffers', 'https://www.canadagoose.com/us/en/pr/hybridge-wide-quilt-knit-jacket-6506W.html', 'https://www.canadagoose.com/ca/en/shop/men/outerwear/lightweight-jackets/shop-mens-lightweight', 'https://www.canadagoose.com/uk/en/shop/men/outerwear/puffer-jackets/shop-mens-puffers', 'https://www.canadagoose.com/fr/fr/pr/sweat-ras-de-cou-muskoka-decontracte-7063W.html', 'https://www.canadagoose.com/lu-fr/fr/pr/sweat-ras-de-cou-muskoka-decontracte-7063W.html', 'https://www.canadagoose.com/ca/en/shop/women/outerwear/lightweight-jackets/shop-womens-lightweight', 'https://www.canadagoose.com/us/en/shop/fall-winter-collection/shop-fall-winter-collection', 'https://www.canadagoose.com/lu/en/2024-gift-guide/2024-gift-guide', 'https://www.canadagoose.com/fr/fr/shop/automme-hiver-collection/shop-fall-winter-collection/', 'https://www.canadagoose.com/lu-fr/fr/2024-gift-guide/2024-gift-guide', 'https://www.canadagoose.com/lu/en/2024-gift-guide/gifts-for-him/gifts-for-him', 'https://www.canadagoose.com/lu/en/2024-gift-guide/gifts-for-her/gifts-for-her', 'https://www.canadagoose.com/lu/en/2024-gift-guide/gifts-for-them/gifts-for-them', 'https://www.canadagoose.com/lu-fr/fr/2024-gift-guide/tout-le-monde/gifts-for-them', 'https://www.canadagoose.com/lu-fr/fr/2024-gift-guide/cadeaux-pour-lui/gifts-for-him', 'https://www.canadagoose.com/lu-fr/fr/2024-gift-guide/cadeaux-pour-elle/gifts-for-her']}\n",
            "2024-10-25 02:22:30,207 - INFO - Found 380 URLs to scrape.\n",
            "2024-10-25 02:22:30,210 - INFO - Executing node: scrape_manager\n",
            "2024-10-25 02:22:30,212 - INFO - Progress: 0/380 URLs processed (0.00%)\n",
            "2024-10-25 02:22:30,215 - INFO - Preparing to scrape URLs 0 to 2\n",
            "2024-10-25 02:22:30,229 - INFO - Executing node: scraper for URL: https://www.canadagoose.com\n",
            "2024-10-25 02:22:30,232 - INFO - Started scraping: https://www.canadagoose.com\n",
            "2024-10-25 02:22:30,240 - INFO - Executing node: scraper for URL: https://www.canadagoose.com/fi/en_FI/shop\n",
            "2024-10-25 02:22:30,247 - INFO - Started scraping: https://www.canadagoose.com/fi/en_FI/shop\n",
            "2024-10-25 02:22:30,252 - INFO - Executing node: scraper for URL: https://www.canadagoose.com/fi/en_FI/shop/shop\n",
            "2024-10-25 02:22:30,262 - INFO - Started scraping: https://www.canadagoose.com/fi/en_FI/shop/shop\n",
            "2024-10-25 02:22:33,476 - INFO - Scraped URL: https://www.canadagoose.com/fi/en_FI/shop\n",
            "2024-10-25 02:22:33,996 - INFO - Scraped URL: https://www.canadagoose.com/fi/en_FI/shop/shop\n",
            "2024-10-25 02:23:00,468 - ERROR - Exception occurred while scraping URL: https://www.canadagoose.com. Error: Request Timeout: Failed to scrape URL as the request timed out. Request timed out - No additional error details provided.\n",
            "2024-10-25 02:23:00,472 - INFO - Executing node: evaluate\n",
            "2024-10-25 02:23:00,475 - INFO - Information not found, continuing to scrape next batch.\n",
            "2024-10-25 02:23:00,477 - INFO - Executing node: scrape_manager\n",
            "2024-10-25 02:23:00,479 - INFO - Progress: 3/380 URLs processed (0.79%)\n",
            "2024-10-25 02:23:00,481 - INFO - Preparing to scrape URLs 3 to 5\n",
            "2024-10-25 02:23:00,484 - INFO - Executing node: scraper for URL: https://www.canadagoose.com/ma/en_MA/shop/men\n",
            "2024-10-25 02:23:00,485 - INFO - Executing node: scraper for URL: https://www.canadagoose.com/ie/en/shop/shop\n",
            "2024-10-25 02:23:00,488 - INFO - Started scraping: https://www.canadagoose.com/ie/en/shop/shop\n",
            "2024-10-25 02:23:00,486 - INFO - Started scraping: https://www.canadagoose.com/ma/en_MA/shop/men\n",
            "2024-10-25 02:23:00,485 - INFO - Executing node: scraper for URL: https://www.canadagoose.com/br/en_BR/shop/men\n",
            "2024-10-25 02:23:00,496 - INFO - Started scraping: https://www.canadagoose.com/br/en_BR/shop/men\n",
            "2024-10-25 02:23:04,207 - INFO - Scraped URL: https://www.canadagoose.com/ie/en/shop/shop\n",
            "2024-10-25 02:23:04,266 - INFO - Scraped URL: https://www.canadagoose.com/br/en_BR/shop/men\n",
            "2024-10-25 02:23:04,289 - INFO - Scraped URL: https://www.canadagoose.com/ma/en_MA/shop/men\n",
            "2024-10-25 02:23:04,292 - INFO - Executing node: evaluate\n",
            "2024-10-25 02:23:04,294 - INFO - Information found in URL: https://www.canadagoose.com/ma/en_MA/shop/men\n",
            "2024-10-25 02:23:04,296 - INFO - Terminating graph execution.\n"
          ]
        }
      ]
    },
    {
      "cell_type": "markdown",
      "source": [
        "There. It found the site that contains the keyword. Imagine running this over a huge .csv and just sit back and let the data come in!\n",
        "\n",
        "One caveat though: Firecrawl's rate limit is pretty low: 20 scrapes per minute, so I kinda cooked this tutorial for an easy example. Try it with something that requires deeper search (like an unindexed documentation site), and put in exponential back-offs so it doesn't hit rate limit."
      ],
      "metadata": {
        "id": "5Pb3NP3lXBhh"
      }
    }
  ]
}